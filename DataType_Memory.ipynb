{
 "cells": [
  {
   "cell_type": "markdown",
   "metadata": {},
   "source": [
    "# Memory Size Calculation"
   ]
  },
  {
   "cell_type": "code",
   "execution_count": null,
   "metadata": {},
   "outputs": [],
   "source": [
    "# Constants for sizes in bytes\n",
    "STRING_OVERHEAD = 40  # Combined object and array overhead for a String in Java\n",
    "CHAR_SIZE = 2         # Size per character in a String, assuming UTF-16\n",
    "DOUBLE_SIZE = 16      # Size of Double wrapper object\n",
    "MAP_ENTRY_OVERHEAD = 32  # Overhead for a map entry (Node)\n",
    "MAP_OVERHEAD = 48        # General overhead for a HashMap object"
   ]
  },
  {
   "cell_type": "code",
   "execution_count": null,
   "metadata": {},
   "outputs": [],
   "source": [
    "# Average string length\n",
    "avg_string_length = 10\n",
    "\n",
    "\n",
    "\n",
    "# Detailed calculations\n",
    "\n",
    "# Size of a single String\n",
    "def calculate_string_size(length):\n",
    "    return STRING_OVERHEAD + (length * CHAR_SIZE)\n",
    "\n",
    "# Size of a Map Entry for Map<String, Double>\n",
    "def calculate_inner_map_entry_size():\n",
    "    string_size = calculate_string_size(avg_string_length)\n",
    "    return string_size + DOUBLE_SIZE + MAP_ENTRY_OVERHEAD\n",
    "\n",
    "# Total size of Map<String, Double>\n",
    "def calculate_inner_map_size(num_entries):\n",
    "    entry_size = calculate_inner_map_entry_size()\n",
    "    return MAP_OVERHEAD + (num_entries * entry_size)\n",
    "\n",
    "# Size of a Map Entry for Map<String, Map<String, Double>>\n",
    "def calculate_middle_map_entry_size(num_inner_entries):\n",
    "    string_size = calculate_string_size(avg_string_length)\n",
    "    inner_map_size = calculate_inner_map_size(num_inner_entries)\n",
    "    return string_size + inner_map_size + MAP_ENTRY_OVERHEAD\n",
    "\n",
    "# Total size of Map<String, Map<String, Double>>\n",
    "def calculate_middle_map_size(num_entries, num_inner_entries):\n",
    "    entry_size = calculate_middle_map_entry_size(num_inner_entries)\n",
    "    return MAP_OVERHEAD + (num_entries * entry_size)\n",
    "\n",
    "# Size of a Map Entry for Map<String, Map<String, Map<String, Double>>>\n",
    "def calculate_outer_map_entry_size(num_middle_entries, num_inner_entries):\n",
    "    string_size = calculate_string_size(avg_string_length)\n",
    "    middle_map_size = calculate_middle_map_size(num_middle_entries, num_inner_entries)\n",
    "    return string_size + middle_map_size + MAP_ENTRY_OVERHEAD\n",
    "\n",
    "# Total size of the complete structure\n",
    "def calculate_total_size(num_outer_entries, num_middle_entries, num_inner_entries):\n",
    "    entry_size = calculate_outer_map_entry_size(num_middle_entries, num_inner_entries)\n",
    "    return MAP_OVERHEAD + (num_outer_entries * entry_size)"
   ]
  },
  {
   "cell_type": "code",
   "execution_count": null,
   "metadata": {},
   "outputs": [],
   "source": [
    "# Number of elements at each level\n",
    "num_outer_keys = 10\n",
    "num_middle_keys = 5\n",
    "num_inner_keys = 2\n",
    "\n",
    "# Calculate and print the total size of the structure\n",
    "total_size = calculate_total_size(num_outer_keys, num_middle_keys, num_inner_keys)\n",
    "print(\"Total estimated size of the Map<String, Map<String, Map<String, double>>> structure:\", total_size, \"bytes\")"
   ]
  }
 ],
 "metadata": {
  "language_info": {
   "name": "python"
  }
 },
 "nbformat": 4,
 "nbformat_minor": 2
}
